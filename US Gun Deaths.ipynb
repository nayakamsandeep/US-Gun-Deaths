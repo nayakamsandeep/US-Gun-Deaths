{
 "cells": [
  {
   "cell_type": "code",
   "execution_count": 52,
   "metadata": {
    "collapsed": false
   },
   "outputs": [
    {
     "name": "stdout",
     "output_type": "stream",
     "text": [
      "[['1', '2012', '01', 'Suicide', '0', 'M', '34', 'Asian/Pacific Islander', '100', 'Home', '4'], ['2', '2012', '01', 'Suicide', '0', 'F', '21', 'White', '100', 'Street', '3'], ['3', '2012', '01', 'Suicide', '0', 'M', '60', 'White', '100', 'Other specified', '4'], ['4', '2012', '02', 'Suicide', '0', 'M', '64', 'White', '100', 'Home', '4']]\n",
      "[['Id', 'Year', 'Id', 'Sex', 'Id', 'Hispanic Origin', 'Id', 'Id2', 'Geography', 'Total', 'Race Alone - White', 'Race Alone - Hispanic', 'Race Alone - Black or African American', 'Race Alone - American Indian and Alaska Native', 'Race Alone - Asian', 'Race Alone - Native Hawaiian and Other Pacific Islander', 'Two or More Races'], ['cen42010', 'April 1, 2010 Census', 'totsex', 'Both Sexes', 'tothisp', 'Total', '0100000US', '', 'United States', '308745538', '197318956', '44618105', '40250635', '3739506', '15159516', '674625', '6984195']]\n",
      "{'Native American/Native Alaskan': 3739506, 'Black': 40250635, 'Hispanic': 44618105, 'Asian/Pacific Islander': 15834141, 'White': 197318956}\n",
      "{'M': 86349, 'F': 14449}\n"
     ]
    }
   ],
   "source": [
    "import csv\n",
    "import datetime\n",
    "\n",
    "f1 = open('guns.csv', 'r')\n",
    "data = list(csv.reader(f1))\n",
    "header = data[0]\n",
    "nhdata = data[1:]\n",
    "print(nhdata[0:4])\n",
    "\n",
    "f2 = open('census.csv', 'r')\n",
    "census = list(csv.reader(f2))\n",
    "print(census)\n",
    "\n",
    "# Yearly Deaths Block using Dictionary\n",
    "years = [years_data[1] for years_data in nhdata]\n",
    "years_count = {}\n",
    "for row in years:\n",
    "    if row in years_count:\n",
    "        years_count[row] += 1\n",
    "    else:\n",
    "        years_count[row] = 1\n",
    "\n",
    "# Month Deaths Block \n",
    "\n",
    "## Converting availbel month and year data to datetime format and considering day = 1\n",
    "dates = [datetime.datetime(year = int(date_data[1]), month = int(date_data[2]), day = 1) for date_data in nhdata]\n",
    "\n",
    "date_counts = {}\n",
    "for row in dates:\n",
    "    if row in date_counts:\n",
    "        date_counts[row] += 1\n",
    "    else:\n",
    "        date_counts[row] = 1\n",
    "            \n",
    "# Deaths by Sex\n",
    "sex_counts = {}\n",
    "for row in nhdata:\n",
    "    if row[5] in sex_counts:\n",
    "        sex_counts[row[5]] += 1\n",
    "    else:\n",
    "        sex_counts[row[5]] = 1\n",
    "\n",
    "# Deaths by Race\n",
    "race_counts = {}\n",
    "for row in nhdata:\n",
    "    if row[7] in race_counts:\n",
    "        race_counts[row[7]] += 1\n",
    "    else:\n",
    "        race_counts[row[7]] = 1\n",
    "        \n",
    "#  Census Data Race wise\n",
    "\n",
    "mapping = {'Asian/Pacific Islander': int(census[1][14])+int(census[1][15]), 'Black': int(census[1][12]), 'Native American/Native Alaskan': int(census[1][13]), 'Hispanic': int(census[1][11]), 'White': int(census[1][10])}\n",
    "print(mapping)\n",
    "race_per_hundredk = {}\n",
    "\n",
    "for row in race_counts:\n",
    "    race_per_hundredk[row] = (race_counts[row]/mapping[row])*100000\n",
    "\n",
    "# Restricting the result to 'Homicide' of intent column\n",
    "\n",
    "intents = [row[3] for row in nhdata]\n",
    "races = [row[7] for row in nhdata]\n",
    "homicide_race_per_hundredk = {}\n",
    "\n",
    "for i, race in enumerate(races):\n",
    "    if intents[i] == 'Homicide':\n",
    "        if race in homicide_race_per_hundredk:\n",
    "            homicide_race_per_hundredk[race] += 1\n",
    "        else:\n",
    "            homicide_race_per_hundredk[race] = 1\n",
    "\n",
    "## Calculationg per 100000 of the above o/p and assigning back to 'homicide_race_per_hundredk'\n",
    "\n",
    "for row in homicide_race_per_hundredk:\n",
    "    homicide_race_per_hundredk[row] = (homicide_race_per_hundredk[row]/mapping[row])*100000\n",
    "    \n",
    "\n",
    "# Figure out the link, if any, between month and homicide rate\n",
    "\n",
    "# Explore the homicide rate by gender.\n",
    "# Explore the rates of other intents, like Accidental, by gender and race.\n",
    "gender_total = {}\n",
    "\n",
    "for row in nhdata:\n",
    "    if row[5] in gender_total:\n",
    "        gender_total[row[5]] += 1\n",
    "    else:\n",
    "        gender_total[row[5]] = 1\n",
    "print(gender_total)\n",
    "\n",
    "def intents_gender_rate(intent_type):\n",
    "    homicide_rate_gender = {}\n",
    "\n",
    "    for row in nhdata:\n",
    "        if row[5] in homicide_rate_gender and row[3] == intent_type:\n",
    "            homicide_rate_gender[row[5]] += 1\n",
    "        elif row[3] == intent_type:\n",
    "            homicide_rate_gender[row[5]] = 1 \n",
    "        \n",
    "    for row in homicide_rate_gender:\n",
    "        homicide_rate_gender[row] = homicide_rate_gender[row]/gender_total[row]\n",
    "    return(homicide_rate_gender)\n",
    "\n",
    "# Explore the rates of other intents, like Accidental, by gender and race.\n",
    "    "
   ]
  },
  {
   "cell_type": "code",
   "execution_count": 53,
   "metadata": {
    "collapsed": false
   },
   "outputs": [
    {
     "data": {
      "text/plain": [
       "{'F': 0.3718596442660392, 'M': 0.34514586156180155}"
      ]
     },
     "execution_count": 53,
     "metadata": {},
     "output_type": "execute_result"
    }
   ],
   "source": [
    "intents_gender_rate('Homicide')"
   ]
  },
  {
   "cell_type": "code",
   "execution_count": null,
   "metadata": {
    "collapsed": false
   },
   "outputs": [],
   "source": []
  }
 ],
 "metadata": {
  "kernelspec": {
   "display_name": "Python 3",
   "language": "python",
   "name": "python3"
  },
  "language_info": {
   "codemirror_mode": {
    "name": "ipython",
    "version": 3
   },
   "file_extension": ".py",
   "mimetype": "text/x-python",
   "name": "python",
   "nbconvert_exporter": "python",
   "pygments_lexer": "ipython3",
   "version": "3.4.3"
  }
 },
 "nbformat": 4,
 "nbformat_minor": 0
}
